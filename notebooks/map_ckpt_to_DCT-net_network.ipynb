{
 "cells": [
  {
   "cell_type": "code",
   "execution_count": 4,
   "id": "92957ff2",
   "metadata": {},
   "outputs": [],
   "source": [
    "import torch\n",
    "import pickle"
   ]
  },
  {
   "cell_type": "code",
   "execution_count": 5,
   "id": "b8cda4c1",
   "metadata": {},
   "outputs": [],
   "source": [
    "with open('/home/malchul/Downloads/ffhq70k-paper256-ada.pkl', 'rb') as f:\n",
    "    ckpt = pickle.load(f)\n"
   ]
  },
  {
   "cell_type": "code",
   "execution_count": 7,
   "id": "6f062edb",
   "metadata": {},
   "outputs": [
    {
     "data": {
      "text/plain": [
       "dict_keys(['G', 'D', 'G_ema', 'training_set_kwargs', 'augment_pipe'])"
      ]
     },
     "execution_count": 7,
     "metadata": {},
     "output_type": "execute_result"
    }
   ],
   "source": [
    "ckpt.keys()"
   ]
  },
  {
   "cell_type": "code",
   "execution_count": 12,
   "id": "c6d3d90b",
   "metadata": {},
   "outputs": [],
   "source": [
    "new_stylegan_ckpt = {'state_dict': {}}\n"
   ]
  },
  {
   "cell_type": "code",
   "execution_count": 13,
   "id": "f0f05612",
   "metadata": {},
   "outputs": [],
   "source": [
    "new_dict = new_stylegan_ckpt['state_dict']\n",
    "for new_key, old_key in (('netG', 'G'), ('netD', 'D'), ('netG_ema', 'G_ema')):\n",
    "    new_dict.update(ckpt[old_key].state_dict(prefix=new_key+'.'))"
   ]
  },
  {
   "cell_type": "code",
   "execution_count": 15,
   "id": "fdf20c75",
   "metadata": {},
   "outputs": [],
   "source": [
    "torch.save(new_stylegan_ckpt, '/home/malchul/work/GAN/DCT_Net/checkpoints/stylegan2_256x256.pth')"
   ]
  }
 ],
 "metadata": {
  "kernelspec": {
   "display_name": "Python 3 (ipykernel)",
   "language": "python",
   "name": "python3"
  },
  "language_info": {
   "codemirror_mode": {
    "name": "ipython",
    "version": 3
   },
   "file_extension": ".py",
   "mimetype": "text/x-python",
   "name": "python",
   "nbconvert_exporter": "python",
   "pygments_lexer": "ipython3",
   "version": "3.8.0"
  }
 },
 "nbformat": 4,
 "nbformat_minor": 5
}
